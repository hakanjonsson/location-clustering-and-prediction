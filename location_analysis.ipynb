{
 "cells": [
  {
   "cell_type": "markdown",
   "metadata": {
    "slideshow": {
     "slide_type": "slide"
    }
   },
   "source": [
    " \n",
    " \n",
    " \n",
    " \n",
    " # Using machine learning to cluster and predict locations from Sony Lifelog API"
   ]
  },
  {
   "cell_type": "markdown",
   "metadata": {
    "slideshow": {
     "slide_type": "subslide"
    }
   },
   "source": [
    "In this notebook we will show how to apply machine learning to location data retrieved from the Sony Lifelog API, for finding important places in your life, and trying to predict movement between these locations. We will use clustering and classification methods from scikit-learn, a Python machine learning package. We assume you have already downloaded location data from the Lifelog API and saved it to a file called locations.json. For a short introduction, please see the Sony Developer World blog post here: http://developer.sonymobile.com/2015/07/28/app-developers-can-now-explore-lifelog-user-predictability-with-data-science-and-machine-learning/"
   ]
  },
  {
   "cell_type": "markdown",
   "metadata": {
    "slideshow": {
     "slide_type": "slide"
    }
   },
   "source": [
    "## Load and extract the data"
   ]
  },
  {
   "cell_type": "markdown",
   "metadata": {
    "slideshow": {
     "slide_type": "skip"
    }
   },
   "source": [
    "Load the location data retrieved from the Sony Lifelog API, and save it to a file 'locations.json'. For details on how to access the Sony Lifelog API, please see the Sony Developer World blog post here:"
   ]
  },
  {
   "cell_type": "code",
   "execution_count": 1,
   "metadata": {
    "collapsed": false,
    "slideshow": {
     "slide_type": "fragment"
    }
   },
   "outputs": [],
   "source": [
    "import json\n",
    "file = open('locations.json')\n",
    "j = json.load(file)[::-1] #the data is in reverse time order"
   ]
  },
  {
   "cell_type": "markdown",
   "metadata": {
    "slideshow": {
     "slide_type": "subslide"
    }
   },
   "source": [
    "The data has a number of attributes in a dictionary data structure, of which we will use position and time in this tutorial. Let's have a look."
   ]
  },
  {
   "cell_type": "code",
   "execution_count": 2,
   "metadata": {
    "collapsed": false,
    "slideshow": {
     "slide_type": "fragment"
    }
   },
   "outputs": [
    {
     "data": {
      "text/plain": [
       "6939"
      ]
     },
     "execution_count": 2,
     "metadata": {},
     "output_type": "execute_result"
    }
   ],
   "source": [
    "len(j)"
   ]
  },
  {
   "cell_type": "code",
   "execution_count": 3,
   "metadata": {
    "collapsed": false,
    "slideshow": {
     "slide_type": "fragment"
    }
   },
   "outputs": [
    {
     "data": {
      "text/plain": [
       "{u'accuracy': 57.64,\n",
       " u'altitude': 0.0,\n",
       " u'endTime': u'2014-06-03T12:00:04.534+02:00',\n",
       " u'id': u'829fd904-46e2-4683-bff2-e9a88b4a33b0',\n",
       " u'position': {u'latitude': 55.71815317808789,\n",
       "  u'longitude': 13.226456038546642},\n",
       " u'sources': [{u'id': u'6abedd62f509feff',\n",
       "   u'name': u'Lifelog',\n",
       "   u'type': u'phone'}],\n",
       " u'startTime': u'2014-06-03T11:56:49.522+02:00'}"
      ]
     },
     "execution_count": 3,
     "metadata": {},
     "output_type": "execute_result"
    }
   ],
   "source": [
    "j[3]"
   ]
  },
  {
   "cell_type": "code",
   "execution_count": 4,
   "metadata": {
    "collapsed": false,
    "slideshow": {
     "slide_type": "fragment"
    }
   },
   "outputs": [
    {
     "data": {
      "text/plain": [
       "{u'accuracy': 21.814,\n",
       " u'altitude': 0.0,\n",
       " u'endTime': u'2015-01-08T10:27:54.631+01:00',\n",
       " u'id': u'b61387e3-e69a-47aa-ae67-8bb93be46c7f-2015-01-08',\n",
       " u'position': {u'latitude': 55.801516219115946,\n",
       "  u'longitude': 12.973692059870128},\n",
       " u'sources': [{u'id': u'afb61515414d0db8',\n",
       "   u'name': u'Lifelog',\n",
       "   u'type': u'phone'}],\n",
       " u'startTime': u'2015-01-08T10:25:53.544+01:00'}"
      ]
     },
     "execution_count": 4,
     "metadata": {},
     "output_type": "execute_result"
    }
   ],
   "source": [
    "j[len(j)-1]"
   ]
  },
  {
   "cell_type": "markdown",
   "metadata": {
    "slideshow": {
     "slide_type": "subslide"
    }
   },
   "source": [
    "Extract the latitude and longitude data.     "
   ]
  },
  {
   "cell_type": "code",
   "execution_count": 5,
   "metadata": {
    "collapsed": false,
    "slideshow": {
     "slide_type": "fragment"
    }
   },
   "outputs": [],
   "source": [
    "lats = map(lambda loc: loc['position']['latitude'],j)\n",
    "lons = map(lambda loc: loc['position']['longitude'],j)\n",
    "locs = zip(lats, lons)"
   ]
  },
  {
   "cell_type": "markdown",
   "metadata": {
    "slideshow": {
     "slide_type": "slide"
    }
   },
   "source": [
    "## Explore the data"
   ]
  },
  {
   "cell_type": "markdown",
   "metadata": {
    "slideshow": {
     "slide_type": "subslide"
    }
   },
   "source": [
    "Let's plot the data in a simple line plot just to get an initial view."
   ]
  },
  {
   "cell_type": "code",
   "execution_count": 6,
   "metadata": {
    "collapsed": false,
    "slideshow": {
     "slide_type": "fragment"
    }
   },
   "outputs": [
    {
     "data": {
      "image/png": "[encoded data removed]",
      "text/plain": [
       "<matplotlib.figure.Figure at 0x10706a610>"
      ]
     },
     "metadata": {},
     "output_type": "display_data"
    }
   ],
   "source": [
    "import matplotlib.pyplot as plt\n",
    "%matplotlib inline\n",
    "\n",
    "plt.rcParams['figure.figsize'] = (10, 6)\n",
    "plt.plot(locs);"
   ]
  },
  {
   "cell_type": "markdown",
   "metadata": {
    "slideshow": {
     "slide_type": "subslide"
    }
   },
   "source": [
    "At this scale there seems to be little variation in both longitude and latitude data, except at a specific spike when there is a major change, which would indicate travel to a distant place, during which no location data is given. Let's plot it in a 2d plot:"
   ]
  },
  {
   "cell_type": "code",
   "execution_count": 7,
   "metadata": {
    "collapsed": false,
    "slideshow": {
     "slide_type": "fragment"
    }
   },
   "outputs": [
    {
     "data": {
      "image/png": "[encoded data removed]",
      "text/plain": [
       "<matplotlib.figure.Figure at 0x1044c7d10>"
      ]
     },
     "metadata": {},
     "output_type": "display_data"
    }
   ],
   "source": [
    "plt.scatter(lons, lats);"
   ]
  },
  {
   "cell_type": "markdown",
   "metadata": {
    "slideshow": {
     "slide_type": "subslide"
    }
   },
   "source": [
    "As we expect there is spatial structure in the data, and on set of point very far from the other. To understand how far, let's plot it on a map, centered on the majority of the point we saw in the line plot above:"
   ]
  },
  {
   "cell_type": "code",
   "execution_count": 8,
   "metadata": {
    "collapsed": false
   },
   "outputs": [
    {
     "data": {
      "image/png": "[encoded data removed]",
      "text/plain": [
       "<matplotlib.figure.Figure at 0x107290290>"
      ]
     },
     "metadata": {},
     "output_type": "display_data"
    }
   ],
   "source": [
    "import mpl_toolkits.basemap as bm\n",
    "fig = plt.figure(figsize=(8,8), dpi=100)\n",
    "bmap = bm.Basemap(projection='merc', lat_0=55.7, lon_0=13.0,resolution = 'l', area_thresh = 0.1,llcrnrlon=11.0, llcrnrlat=55.0,urcrnrlon=14.9, urcrnrlat=56.9)\n",
    "bmap.fillcontinents(color='coral')\n",
    "x,y = bmap(lons, lats)\n",
    "bmap.plot(x, y, 'bo', markersize=10)\n",
    "plt.show()"
   ]
  },
  {
   "cell_type": "markdown",
   "metadata": {
    "slideshow": {
     "slide_type": "subslide"
    }
   },
   "source": [
    "This is obviously the south of Sweden. What about the distant spike of points?"
   ]
  },
  {
   "cell_type": "code",
   "execution_count": 9,
   "metadata": {
    "collapsed": false,
    "slideshow": {
     "slide_type": "-"
    }
   },
   "outputs": [
    {
     "data": {
      "image/png": "[encoded data removed]",
      "text/plain": [
       "<matplotlib.figure.Figure at 0x1071eecd0>"
      ]
     },
     "metadata": {},
     "output_type": "display_data"
    }
   ],
   "source": [
    "fig = plt.figure(figsize=(8,8), dpi=100)\n",
    "bmap = bm.Basemap(projection='merc', lat_0=48.9, lon_0=2.25,resolution = 'l', area_thresh = 0.1,llcrnrlon=-2.0, llcrnrlat=46.0,urcrnrlon=6.0, urcrnrlat=52.9)\n",
    "bmap.drawcountries()\n",
    "bmap.fillcontinents(color='coral')\n",
    "x,y = bmap(lons, lats)\n",
    "bmap.plot(x, y, 'bo', markersize=10)\n",
    "plt.show()"
   ]
  },
  {
   "cell_type": "markdown",
   "metadata": {
    "slideshow": {
     "slide_type": "-"
    }
   },
   "source": [
    "And this is clearly Paris, France."
   ]
  },
  {
   "cell_type": "markdown",
   "metadata": {
    "slideshow": {
     "slide_type": "slide"
    }
   },
   "source": [
    "## Finding personal points of interest through location clustering"
   ]
  },
  {
   "cell_type": "markdown",
   "metadata": {},
   "source": [
    "We want to find clusters of location points that signify places that are important to the user, personal points of interest (POI). Use DBSCAN density based clustering to find clusters. DBSCAN has the advantage over centroid-based methods, e.g. K-means clustering, that we don't need to specify the number of clusters we are looking for, and that all points are not assigned to a cluster. This makes sense when trying find important places that the user makes transitions between, since we are not interested in assigning the transition points to any cluster.\n",
    "\n",
    "Epsilon determines the size of the neighbourhood we count points in."
   ]
  },
  {
   "cell_type": "code",
   "execution_count": 10,
   "metadata": {
    "collapsed": false,
    "slideshow": {
     "slide_type": "subslide"
    }
   },
   "outputs": [],
   "source": [
    "from sklearn import cluster\n",
    "dbscan = cluster.DBSCAN(eps=0.002)"
   ]
  },
  {
   "cell_type": "markdown",
   "metadata": {},
   "source": [
    "Fit model and each position to a cluster (or noise)."
   ]
  },
  {
   "cell_type": "code",
   "execution_count": 11,
   "metadata": {
    "collapsed": false
   },
   "outputs": [],
   "source": [
    "import numpy as np\n",
    "np.set_printoptions(precision=3, suppress = True, edgeitems =10)\n",
    "\n",
    "f = dbscan.fit_predict(np.array(locs))"
   ]
  },
  {
   "cell_type": "markdown",
   "metadata": {},
   "source": [
    "How many cluster did we get for this value of epsilon? Let's have a the cluster labels."
   ]
  },
  {
   "cell_type": "code",
   "execution_count": 12,
   "metadata": {
    "collapsed": false
   },
   "outputs": [
    {
     "name": "stdout",
     "output_type": "stream",
     "text": [
      "set([0, 1, 2, 3, 4, 5, 6, 7, 8, 9, 10, 11, 12, 13, 14, 15, 16, 17, 18, 19, 20, 21, 22, 23, 24, 25, 26, 27, 28, 29, 30, 31, 32, 33, 34, 35, 36, 37, 38, 39, 40, 41, 42, 43, 44, 45, 46, 47, 48, 49, 50, 51, 52, 53, 54, 55, 56, 57, 58, 59, 60, 61, 62, 63, 64, 65, 66, 67, 68, 69, 70, 71, 72, 73, -1])\n"
     ]
    }
   ],
   "source": [
    "print(set(f))"
   ]
  },
  {
   "cell_type": "markdown",
   "metadata": {
    "slideshow": {
     "slide_type": "subslide"
    }
   },
   "source": [
    "We got 74 clusters. -1 is the label for noise, and is not a cluster. Many clusters. How many visits to each of them?"
   ]
  },
  {
   "cell_type": "code",
   "execution_count": 13,
   "metadata": {
    "collapsed": false
   },
   "outputs": [
    {
     "data": {
      "image/png": "[encoded data removed]",
      "text/plain": [
       "<matplotlib.figure.Figure at 0x1093b2d90>"
      ]
     },
     "metadata": {},
     "output_type": "display_data"
    }
   ],
   "source": [
    "plt.hist(f, bins=74);"
   ]
  },
  {
   "cell_type": "markdown",
   "metadata": {
    "slideshow": {
     "slide_type": "subslide"
    }
   },
   "source": [
    "74 clusters seems to be a bit much if we want to find the most important POIs. Let's require at least 100 points within epsilon."
   ]
  },
  {
   "cell_type": "code",
   "execution_count": 14,
   "metadata": {
    "collapsed": false
   },
   "outputs": [
    {
     "data": {
      "text/plain": [
       "{-1, 0, 1, 2, 3, 4, 5, 6}"
      ]
     },
     "execution_count": 14,
     "metadata": {},
     "output_type": "execute_result"
    }
   ],
   "source": [
    "dbscan = cluster.DBSCAN(eps=0.002, min_samples=100)\n",
    "f = dbscan.fit_predict(np.array(locs))\n",
    "set(f)"
   ]
  },
  {
   "cell_type": "code",
   "execution_count": 15,
   "metadata": {
    "collapsed": false
   },
   "outputs": [
    {
     "data": {
      "image/png": "[encoded data removed]",
      "text/plain": [
       "<matplotlib.figure.Figure at 0x107368d10>"
      ]
     },
     "metadata": {},
     "output_type": "display_data"
    }
   ],
   "source": [
    "plt.hist(f, bins=7);"
   ]
  },
  {
   "cell_type": "markdown",
   "metadata": {
    "slideshow": {
     "slide_type": "subslide"
    }
   },
   "source": [
    "Lets plot the clusters with different colors"
   ]
  },
  {
   "cell_type": "code",
   "execution_count": 16,
   "metadata": {
    "collapsed": false
   },
   "outputs": [
    {
     "data": {
      "image/png": "[encoded data removed]",
      "text/plain": [
       "<matplotlib.figure.Figure at 0x10737fb50>"
      ]
     },
     "metadata": {},
     "output_type": "display_data"
    }
   ],
   "source": [
    "clrs = np.array([x for x in 'bgrcmykbgrcmykbgrcmykbgrcmyk'])\n",
    "labels = dbscan.labels_.astype(np.int)\n",
    "plt.scatter(lons, lats, color=clrs[labels].tolist())\n",
    "plt.xlim(12.7,13.4)\n",
    "plt.ylim(55.5,56.0);"
   ]
  },
  {
   "cell_type": "markdown",
   "metadata": {
    "slideshow": {
     "slide_type": "subslide"
    }
   },
   "source": [
    "Zoom in on the ones to the left."
   ]
  },
  {
   "cell_type": "code",
   "execution_count": 17,
   "metadata": {
    "collapsed": false
   },
   "outputs": [
    {
     "data": {
      "image/png": "[encoded data removed]",
      "text/plain": [
       "<matplotlib.figure.Figure at 0x109494590>"
      ]
     },
     "metadata": {},
     "output_type": "display_data"
    }
   ],
   "source": [
    "plt.scatter(lons, lats, color=clrs[labels].tolist())\n",
    "plt.xlim(12.94,13.0)\n",
    "plt.ylim(55.76,55.83);"
   ]
  },
  {
   "cell_type": "markdown",
   "metadata": {
    "slideshow": {
     "slide_type": "subslide"
    }
   },
   "source": [
    "And have a look at the one to the right as well."
   ]
  },
  {
   "cell_type": "code",
   "execution_count": 18,
   "metadata": {
    "collapsed": false
   },
   "outputs": [
    {
     "data": {
      "image/png": "[encoded data removed]",
      "text/plain": [
       "<matplotlib.figure.Figure at 0x10969a0d0>"
      ]
     },
     "metadata": {},
     "output_type": "display_data"
    }
   ],
   "source": [
    "plt.scatter(lons, lats, color=clrs[labels].tolist())\n",
    "plt.xlim(13.18,13.26)\n",
    "plt.ylim(55.7,55.735);"
   ]
  },
  {
   "cell_type": "markdown",
   "metadata": {
    "slideshow": {
     "slide_type": "fragment"
    }
   },
   "source": [
    "Labels is now a list of locations, labeled with the id of the cluster it belongs to."
   ]
  },
  {
   "cell_type": "code",
   "execution_count": 19,
   "metadata": {
    "collapsed": false,
    "slideshow": {
     "slide_type": "fragment"
    }
   },
   "outputs": [
    {
     "name": "stdout",
     "output_type": "stream",
     "text": [
      "[1, 1, 1, 1, 1, 1, 1, 1, -1, -1]\n"
     ]
    }
   ],
   "source": [
    "pois = labels.tolist()\n",
    "print pois[0:10]"
   ]
  },
  {
   "cell_type": "markdown",
   "metadata": {
    "slideshow": {
     "slide_type": "slide"
    }
   },
   "source": [
    "## Predict next point of interest"
   ]
  },
  {
   "cell_type": "markdown",
   "metadata": {},
   "source": [
    "Let's try to predict which cluster (POI) you will move to next. Start by removing noise (-1, points not belonging to a cluster) and duplicates, since we are only intrested in transitions."
   ]
  },
  {
   "cell_type": "code",
   "execution_count": 20,
   "metadata": {
    "collapsed": false
   },
   "outputs": [],
   "source": [
    "pois = filter(lambda x: x > -1,pois)"
   ]
  },
  {
   "cell_type": "markdown",
   "metadata": {},
   "source": [
    "Remove repeating POIs"
   ]
  },
  {
   "cell_type": "code",
   "execution_count": 21,
   "metadata": {
    "collapsed": false
   },
   "outputs": [],
   "source": [
    "sequence=[pois[0]]\n",
    "for i in range(len(pois)):\n",
    "    if (pois[i]!=sequence[-1]):\n",
    "        sequence.append(pois[i])"
   ]
  },
  {
   "cell_type": "code",
   "execution_count": 22,
   "metadata": {
    "collapsed": false
   },
   "outputs": [
    {
     "name": "stdout",
     "output_type": "stream",
     "text": [
      "[1, 2, 0, 2, 1, 0, 1, 0, 2, 0, 5, 0, 2, 5, 0, 1, 2, 6, 0, 1, 3, 2, 6, 0, 5, 0, 2, 1, 6, 0, 5, 2, 1, 3, 0, 5, 2, 1, 0, 5, 0, 6, 3, 6, 3, 5, 0, 6, 3, 0, 1, 2, 0, 2, 1, 0, 1, 2, 0, 1, 0, 3, 0, 2, 0, 3, 0, 3, 0, 5, 1, 0, 1, 3, 0, 3, 0, 1, 0, 5, 0, 3, 0, 3, 5, 0, 1, 0, 1, 0, 1, 2, 0, 2, 1, 3, 0, 3, 1, 2, 0, 3, 0, 5, 2, 1, 5, 0, 3, 0, 6, 0, 1, 2, 0, 2, 1, 5, 0, 1, 3, 0, 1, 0, 3, 0, 5, 2, 0, 2, 0, 5, 0, 3, 6, 0, 1, 2, 0, 5, 0, 2, 3, 0, 2, 1, 2, 0, 1, 2, 5, 0, 1, 2, 5, 0, 3, 1, 0, 2, 3, 0, 2, 5, 0, 5, 0, 6, 0, 2, 1, 0, 1, 0, 2, 1, 0, 1, 2, 5, 0, 3, 5, 0, 2, 1, 0, 3, 0, 3, 0, 3, 0, 5, 0, 6, 0, 1, 0, 5, 2, 1, 3, 0, 1, 3, 5, 0, 1, 2, 0, 3, 0, 1, 2, 0, 2, 5, 0, 5, 0, 6, 3, 0, 2, 1, 0, 1, 2, 5, 0, 2, 1, 0, 1, 2, 5, 0, 2, 1, 3, 0, 6, 5, 0, 5, 0, 2, 1, 3, 2, 0, 3, 1, 2, 0, 5, 0, 2, 1, 3, 0, 1, 0, 2, 0, 5, 0, 3, 0, 3, 0, 1, 2, 0, 2, 1, 0, 1, 2, 0, 5, 0, 1, 2, 0, 5, 0, 3, 0, 5, 0, 2, 1, 0, 5, 2, 1, 3, 2, 5, 0, 1, 5, 0, 5, 2, 1, 2, 0, 3, 0, 2, 3, 6, 0, 1, 0, 1, 0, 1, 3, 5, 0, 2, 1, 5, 0, 3, 5, 0, 5, 0, 5, 0, 3, 6, 3, 6, 3, 6, 3, 0, 5, 2, 1, 3, 0, 1, 2, 0, 2, 0, 3, 1, 3, 0, 3, 1, 2, 0, 3, 0, 1, 5, 0, 3, 0, 3, 0, 3, 5, 0, 1, 2, 5, 0, 5, 2, 1, 5, 0, 3, 1, 3, 2, 5, 0, 5, 2, 5, 0, 3, 1, 0, 3, 1, 3, 2, 3, 5, 0, 4, 0, 6, 3, 6, 3, 6, 3, 6, 3, 6, 3, 6, 3, 0, 2, 1, 5, 0, 2, 5, 0, 5, 2, 1, 5, 0, 5, 1, 2, 5, 0, 3, 1, 3, 5, 0, 5, 0, 5, 3, 5, 0, 3, 0, 3, 0, 3, 5, 0, 6, 3, 6, 0, 2, 1, 3, 0, 5, 0, 2, 5, 0, 3, 1, 3, 2, 3, 5, 0, 2, 1, 5, 0, 3, 0, 5, 0, 2, 1, 3, 0, 5, 1, 2, 5, 0, 2, 1, 3, 5, 0, 1, 2, 0, 5, 2, 1, 5, 0, 3, 5, 0, 3, 5, 0, 3, 0, 3, 5, 0, 6, 3, 0, 2, 1, 3, 0, 5, 1, 2, 3, 5, 0, 1, 2, 5, 0, 2, 1, 2, 5, 2, 0, 1, 0, 3, 0, 3, 0, 5, 2, 1, 3, 0, 1, 2, 0, 5, 2, 1, 0, 5, 2, 1, 3, 2, 5, 0, 3, 5, 0, 5, 2, 1, 2, 5, 0, 5, 1, 2, 5, 0, 3, 0, 5, 3, 6, 0, 5, 0, 3, 0, 3, 0, 3, 0, 5, 0, 3, 0, 3, 0, 3, 0, 6, 0, 6, 3, 0, 5, 0, 3, 6, 0, 3, 1, 0, 1, 0]\n"
     ]
    }
   ],
   "source": [
    "print sequence"
   ]
  },
  {
   "cell_type": "markdown",
   "metadata": {
    "slideshow": {
     "slide_type": "subslide"
    }
   },
   "source": [
    "This sequence can be seen as a graph. Let's visualize it using the networkx package."
   ]
  },
  {
   "cell_type": "code",
   "execution_count": 23,
   "metadata": {
    "collapsed": false,
    "slideshow": {
     "slide_type": "fragment"
    }
   },
   "outputs": [
    {
     "data": {
      "image/png": "[encoded data removed]",
      "text/plain": [
       "<matplotlib.figure.Figure at 0x1095f9cd0>"
      ]
     },
     "metadata": {},
     "output_type": "display_data"
    }
   ],
   "source": [
    "import networkx as nx\n",
    "G=nx.DiGraph()\n",
    "for i in range(len(sequence)-1):\n",
    "    if G.has_edge(sequence[i], sequence[i+1]):\n",
    "        G[sequence[i]][sequence[i+1]]['weight'] += 1\n",
    "    else:\n",
    "        G.add_edge(sequence[i], sequence[i+1], weight=1)\n",
    "nx.draw_shell(G)"
   ]
  },
  {
   "cell_type": "markdown",
   "metadata": {
    "slideshow": {
     "slide_type": "fragment"
    }
   },
   "source": [
    "We can see that most edges are reciprocal, except for two edges that are one-directional. Also, one node is only visited from one specific node, and no others."
   ]
  },
  {
   "cell_type": "markdown",
   "metadata": {
    "slideshow": {
     "slide_type": "subslide"
    }
   },
   "source": [
    "How many visits to the POIs after removing repeats?"
   ]
  },
  {
   "cell_type": "code",
   "execution_count": 24,
   "metadata": {
    "collapsed": false,
    "slideshow": {
     "slide_type": "fragment"
    }
   },
   "outputs": [
    {
     "data": {
      "text/plain": [
       "(array([193,  96,  94, 103,   1,  96,  29]),\n",
       " array([ 0.   ,  0.857,  1.714,  2.571,  3.429,  4.286,  5.143,  6.   ]))"
      ]
     },
     "execution_count": 24,
     "metadata": {},
     "output_type": "execute_result"
    },
    {
     "data": {
      "image/png": "[encoded data removed]",
      "text/plain": [
       "<matplotlib.figure.Figure at 0x1072e0850>"
      ]
     },
     "metadata": {},
     "output_type": "display_data"
    }
   ],
   "source": [
    "plt.hist(sequence, bins=7);\n",
    "np.histogram(sequence, bins=7)"
   ]
  },
  {
   "cell_type": "markdown",
   "metadata": {
    "slideshow": {
     "slide_type": "fragment"
    }
   },
   "source": [
    "One of them has significantly fewer visits after removing repeating clusters. Why? This means it was frequently visited, but that  all of the visits came in a straight sequence with no visits to other clusters (but it could be interrupted by -1, noise). This should be investigated further, but I leave it as an exercise to the reader."
   ]
  },
  {
   "cell_type": "markdown",
   "metadata": {
    "slideshow": {
     "slide_type": "subslide"
    }
   },
   "source": [
    "Now we want to predict the next POI given the current one. Create a training set of transitions:"
   ]
  },
  {
   "cell_type": "code",
   "execution_count": 25,
   "metadata": {
    "collapsed": false,
    "slideshow": {
     "slide_type": "fragment"
    }
   },
   "outputs": [
    {
     "data": {
      "text/plain": [
       "[(array([1]), 2),\n",
       " (array([2]), 0),\n",
       " (array([0]), 2),\n",
       " (array([2]), 1),\n",
       " (array([1]), 0),\n",
       " (array([0]), 1),\n",
       " (array([1]), 0),\n",
       " (array([0]), 2),\n",
       " (array([2]), 0),\n",
       " (array([0]), 5),\n",
       " (array([5]), 0),\n",
       " (array([0]), 2),\n",
       " (array([2]), 5),\n",
       " (array([5]), 0),\n",
       " (array([0]), 1),\n",
       " (array([1]), 2),\n",
       " (array([2]), 6),\n",
       " (array([6]), 0),\n",
       " (array([0]), 1),\n",
       " (array([1]), 3)]"
      ]
     },
     "execution_count": 25,
     "metadata": {},
     "output_type": "execute_result"
    }
   ],
   "source": [
    "currentPOI = np.vstack(sequence[0:(len(sequence)-1)])\n",
    "nextPOI = np.array(sequence[1:(len(sequence))])\n",
    "zip(currentPOI, nextPOI)[0:20]"
   ]
  },
  {
   "cell_type": "markdown",
   "metadata": {
    "slideshow": {
     "slide_type": "subslide"
    }
   },
   "source": [
    "Throw a couple of different machine learning models at it. To understand the differences in how the models work, please see http://scikit-learn.org/"
   ]
  },
  {
   "cell_type": "code",
   "execution_count": 26,
   "metadata": {
    "collapsed": false,
    "slideshow": {
     "slide_type": "fragment"
    }
   },
   "outputs": [
    {
     "data": {
      "text/plain": [
       "0.43862520458265142"
      ]
     },
     "execution_count": 26,
     "metadata": {},
     "output_type": "execute_result"
    }
   ],
   "source": [
    "from sklearn import svm\n",
    "clf = svm.SVC()\n",
    "clf.fit(currentPOI, nextPOI)\n",
    "clf.score(currentPOI, nextPOI)"
   ]
  },
  {
   "cell_type": "code",
   "execution_count": 27,
   "metadata": {
    "collapsed": false,
    "slideshow": {
     "slide_type": "fragment"
    }
   },
   "outputs": [
    {
     "data": {
      "text/plain": [
       "0.43862520458265142"
      ]
     },
     "execution_count": 27,
     "metadata": {},
     "output_type": "execute_result"
    }
   ],
   "source": [
    "from sklearn.ensemble import RandomForestClassifier\n",
    "clf = RandomForestClassifier(n_estimators=1000)\n",
    "clf.fit(currentPOI, nextPOI)\n",
    "clf.predict(currentPOI)\n",
    "clf.score(currentPOI, nextPOI)"
   ]
  },
  {
   "cell_type": "code",
   "execution_count": 28,
   "metadata": {
    "collapsed": false,
    "slideshow": {
     "slide_type": "fragment"
    }
   },
   "outputs": [
    {
     "data": {
      "text/plain": [
       "0.43862520458265142"
      ]
     },
     "execution_count": 28,
     "metadata": {},
     "output_type": "execute_result"
    }
   ],
   "source": [
    "from sklearn import tree\n",
    "clf = tree.DecisionTreeClassifier()\n",
    "clf.fit(currentPOI, nextPOI)\n",
    "clf.predict(currentPOI)\n",
    "clf.score(currentPOI, nextPOI)"
   ]
  },
  {
   "cell_type": "markdown",
   "metadata": {
    "slideshow": {
     "slide_type": "fragment"
    }
   },
   "source": [
    "They all got the same score! What score() actually implements is different for each method in scikit-learn, but in these cases it is all mean accuracy that is reported."
   ]
  },
  {
   "cell_type": "markdown",
   "metadata": {
    "slideshow": {
     "slide_type": "slide"
    }
   },
   "source": [
    "## Evaluating performance: Does it generalize to unseen (future data)?"
   ]
  },
  {
   "cell_type": "markdown",
   "metadata": {
    "slideshow": {
     "slide_type": "-"
    }
   },
   "source": [
    "So far we have only evaluated on the training set. This only measures how well each model can be fitted to a historics data we have already seen, and does not measure how well it generalizes to future, unseen data. To measure how well the fitted model works on unseen data we need to split into a test and training set.\n",
    "Since this is temporal data, we want to keep the data ordered, and make the split at a point in time, rather than sample the dataset at random. For other cases, where time is not important, you want to sample at random. For these cases you can use the train_test_split() method in scikit-learn."
   ]
  },
  {
   "cell_type": "markdown",
   "metadata": {
    "slideshow": {
     "slide_type": "subslide"
    }
   },
   "source": [
    "We train on 70% of the data and test on 30%."
   ]
  },
  {
   "cell_type": "code",
   "execution_count": 29,
   "metadata": {
    "collapsed": false,
    "slideshow": {
     "slide_type": "-"
    }
   },
   "outputs": [],
   "source": [
    "split = int(currentPOI.shape[0]*0.7)\n",
    "X_train = currentPOI[0:split]\n",
    "X_test = currentPOI[split:currentPOI.shape[0]]\n",
    "y_train = nextPOI[0:split]\n",
    "y_test = nextPOI[split:len(nextPOI)]"
   ]
  },
  {
   "cell_type": "code",
   "execution_count": 30,
   "metadata": {
    "collapsed": false,
    "slideshow": {
     "slide_type": "fragment"
    }
   },
   "outputs": [
    {
     "data": {
      "text/plain": [
       "0.39673913043478259"
      ]
     },
     "execution_count": 30,
     "metadata": {},
     "output_type": "execute_result"
    }
   ],
   "source": [
    "clf = RandomForestClassifier(n_estimators=1000)\n",
    "clf.fit(X_train, y_train)\n",
    "clf.score(X_test, y_test)"
   ]
  },
  {
   "cell_type": "code",
   "execution_count": 31,
   "metadata": {
    "collapsed": false,
    "slideshow": {
     "slide_type": "fragment"
    }
   },
   "outputs": [
    {
     "data": {
      "text/plain": [
       "array([0, 1, 0, 2, 1, 0, 1, 0, 2, 0, 0, 1, 0, 1, 0, 0, 0, 1, 0, 1, 0, 1, 0,\n",
       "       0, 1, 3, 0, 3, 1, 1, 2, 0, 1, 0, 1, 1, 0, 1, 0, 2, 0, 1, 0, 0, 1, 1,\n",
       "       2, 0, 1, 0, 1, 0, 1, 1, 2, 0, 1, 0, 2, 1, 0, 1, 1, 2, 0, 0, 1, 2, 1,\n",
       "       1, 0, 1, 2, 0, 1, 0, 0, 1, 0, 0, 1, 0, 1, 0, 0, 1, 3, 0, 1, 1, 2, 0,\n",
       "       1, 0, 2, 1, 0, 0, 1, 2, 1, 0, 1, 1, 2, 1, 0, 1, 1, 2, 1, 0, 1, 0, 1,\n",
       "       0, 1, 2, 0, 1, 2, 1, 1, 0, 1, 2, 1, 0, 1, 2, 0, 1, 0, 1, 0, 0, 1, 0,\n",
       "       1, 2, 1, 0, 1, 0, 2, 1, 0, 1, 0, 1, 0, 0, 3, 1, 0, 1, 0, 1, 0, 1, 0,\n",
       "       1, 0, 1, 0, 1, 0, 1, 0, 1, 3, 1, 3, 0, 1, 0, 1, 0, 3, 1, 0, 2, 1, 2])"
      ]
     },
     "execution_count": 31,
     "metadata": {},
     "output_type": "execute_result"
    }
   ],
   "source": [
    "clf.predict(X_test)"
   ]
  },
  {
   "cell_type": "code",
   "execution_count": 32,
   "metadata": {
    "collapsed": false,
    "slideshow": {
     "slide_type": "subslide"
    }
   },
   "outputs": [
    {
     "data": {
      "text/plain": [
       "0.36956521739130432"
      ]
     },
     "execution_count": 32,
     "metadata": {},
     "output_type": "execute_result"
    }
   ],
   "source": [
    "clf = svm.SVC()\n",
    "clf.fit(X_train, y_train)\n",
    "clf.score(X_test, y_test)"
   ]
  },
  {
   "cell_type": "markdown",
   "metadata": {
    "slideshow": {
     "slide_type": "fragment"
    }
   },
   "source": [
    "So what are we really predicting? Let's have a look at the test set"
   ]
  },
  {
   "cell_type": "code",
   "execution_count": 33,
   "metadata": {
    "collapsed": false,
    "slideshow": {
     "slide_type": "fragment"
    }
   },
   "outputs": [
    {
     "data": {
      "text/plain": [
       "array([[5],\n",
       "       [0],\n",
       "       [5],\n",
       "       [1],\n",
       "       [2],\n",
       "       [5],\n",
       "       [0],\n",
       "       [3],\n",
       "       [1],\n",
       "       [3],\n",
       "       [5],\n",
       "       [0],\n",
       "       [5],\n",
       "       [0],\n",
       "       [5],\n",
       "       [3],\n",
       "       [5],\n",
       "       [0],\n",
       "       [3],\n",
       "       [0]])"
      ]
     },
     "execution_count": 33,
     "metadata": {},
     "output_type": "execute_result"
    }
   ],
   "source": [
    "X_test[0:20]"
   ]
  },
  {
   "cell_type": "code",
   "execution_count": 34,
   "metadata": {
    "collapsed": false,
    "slideshow": {
     "slide_type": "fragment"
    }
   },
   "outputs": [
    {
     "data": {
      "text/plain": [
       "array([0, 1, 0, 0, 1, 0, 1, 0, 0, 0, 0, 1, 0, 1, 0, 0, 0, 1, 0, 1, 0, 1, 0,\n",
       "       0, 1, 3, 0, 3, 1, 1, 0, 0, 1, 0, 1, 1, 0, 1, 0, 0, 0, 1, 0, 0, 1, 1,\n",
       "       0, 0, 1, 0, 1, 0, 1, 1, 0, 0, 1, 0, 0, 1, 0, 1, 1, 0, 0, 0, 1, 0, 1,\n",
       "       1, 0, 1, 0, 0, 1, 0, 0, 1, 0, 0, 1, 0, 1, 0, 0, 1, 3, 0, 1, 1, 0, 0,\n",
       "       1, 0, 0, 1, 0, 0, 1, 0, 1, 0, 1, 1, 0, 1, 0, 1, 1, 0, 1, 0, 1, 0, 1,\n",
       "       0, 1, 0, 0, 1, 0, 1, 1, 0, 1, 0, 1, 0, 1, 0, 0, 1, 0, 1, 0, 0, 1, 0,\n",
       "       1, 0, 1, 0, 1, 0, 0, 1, 0, 1, 0, 1, 0, 0, 3, 1, 0, 1, 0, 1, 0, 1, 0,\n",
       "       1, 0, 1, 0, 1, 0, 1, 0, 1, 3, 1, 3, 0, 1, 0, 1, 0, 3, 1, 0, 0, 1, 0])"
      ]
     },
     "execution_count": 34,
     "metadata": {},
     "output_type": "execute_result"
    }
   ],
   "source": [
    "clf.predict(X_test)"
   ]
  },
  {
   "cell_type": "code",
   "execution_count": 35,
   "metadata": {
    "collapsed": false,
    "slideshow": {
     "slide_type": "fragment"
    }
   },
   "outputs": [
    {
     "data": {
      "text/plain": [
       "array([0, 5, 1, 2, 5, 0, 3, 1, 3, 5, 0, 5, 0, 5, 3, 5, 0, 3, 0, 3, 0, 3, 5,\n",
       "       0, 6, 3, 6, 0, 2, 1, 3, 0, 5, 0, 2, 5, 0, 3, 1, 3, 2, 3, 5, 0, 2, 1,\n",
       "       5, 0, 3, 0, 5, 0, 2, 1, 3, 0, 5, 1, 2, 5, 0, 2, 1, 3, 5, 0, 1, 2, 0,\n",
       "       5, 2, 1, 5, 0, 3, 5, 0, 3, 5, 0, 3, 0, 3, 5, 0, 6, 3, 0, 2, 1, 3, 0,\n",
       "       5, 1, 2, 3, 5, 0, 1, 2, 5, 0, 2, 1, 2, 5, 2, 0, 1, 0, 3, 0, 3, 0, 5,\n",
       "       2, 1, 3, 0, 1, 2, 0, 5, 2, 1, 0, 5, 2, 1, 3, 2, 5, 0, 3, 5, 0, 5, 2,\n",
       "       1, 2, 5, 0, 5, 1, 2, 5, 0, 3, 0, 5, 3, 6, 0, 5, 0, 3, 0, 3, 0, 3, 0,\n",
       "       5, 0, 3, 0, 3, 0, 3, 0, 6, 0, 6, 3, 0, 5, 0, 3, 6, 0, 3, 1, 0, 1, 0])"
      ]
     },
     "execution_count": 35,
     "metadata": {},
     "output_type": "execute_result"
    }
   ],
   "source": [
    "y_test"
   ]
  },
  {
   "cell_type": "markdown",
   "metadata": {
    "slideshow": {
     "slide_type": "slide"
    }
   },
   "source": [
    "## Improving prediction performance by adding more features"
   ]
  },
  {
   "cell_type": "markdown",
   "metadata": {
    "slideshow": {
     "slide_type": "-"
    }
   },
   "source": [
    "  The major part of working with machine learning models lies in feeding your model with the right data in a format that contains as much information as possible while having as little correlation with other data as possible. This is called feature engineering. While we want as much data as possible we also want to reduce computation time, and avoid data that is not relevant, since it may introduce noise and worse performance. This is inherently problematic, since we should only use machine learing when we don't have a good analytical model. But if we don't have an analytical model, it is often hard to know what data is relevant. Domain knowledge is thus important for good feature engineering."
   ]
  },
  {
   "cell_type": "markdown",
   "metadata": {
    "slideshow": {
     "slide_type": "subslide"
    }
   },
   "source": [
    "Based on domain knowledge (or common sense in this case), we add arrival time of day, and day of week information. First get hour of day. "
   ]
  },
  {
   "cell_type": "code",
   "execution_count": 39,
   "metadata": {
    "collapsed": false,
    "slideshow": {
     "slide_type": "-"
    }
   },
   "outputs": [
    {
     "data": {
      "text/plain": [
       "[9, 10, 11, 11, 12, 12, 15, 15, 15, 15, 16, 16, 16, 16, 17, 17, 18, 18, 18, 18]"
      ]
     },
     "execution_count": 39,
     "metadata": {},
     "output_type": "execute_result"
    }
   ],
   "source": [
    "import datetime\n",
    "arrival_hour = map(lambda s: datetime.datetime.strptime(s['startTime'][0:19], \"%Y-%m-%dT%H:%M:%S\").hour,j)\n",
    "arrival_hour[0:20]"
   ]
  },
  {
   "cell_type": "markdown",
   "metadata": {
    "slideshow": {
     "slide_type": "subslide"
    }
   },
   "source": [
    "Always do sanity checking on your data. You often make assumptions about it even if you are not aware of it, for example about ordering or semantics. Make sure to test your assumptions. A good way is to plot it. In this case, we expect arrival_hour to be increasing until it reaches at most 24 when it should restart from a low value."
   ]
  },
  {
   "cell_type": "code",
   "execution_count": 40,
   "metadata": {
    "collapsed": false,
    "slideshow": {
     "slide_type": "-"
    }
   },
   "outputs": [
    {
     "data": {
      "image/png": "[encoded data removed]",
      "text/plain": [
       "<matplotlib.figure.Figure at 0x105b14450>"
      ]
     },
     "metadata": {},
     "output_type": "display_data"
    }
   ],
   "source": [
    "plt.bar(range(0,500),arrival_hour[0:500]);"
   ]
  },
  {
   "cell_type": "markdown",
   "metadata": {
    "slideshow": {
     "slide_type": "subslide"
    }
   },
   "source": [
    "Next, get weekday."
   ]
  },
  {
   "cell_type": "code",
   "execution_count": 41,
   "metadata": {
    "collapsed": false,
    "slideshow": {
     "slide_type": "-"
    }
   },
   "outputs": [
    {
     "data": {
      "text/plain": [
       "[1, 1, 1, 1, 1, 1, 1, 1, 1, 1, 1, 1, 1, 1, 1, 1, 1, 1, 1, 1]"
      ]
     },
     "execution_count": 41,
     "metadata": {},
     "output_type": "execute_result"
    }
   ],
   "source": [
    "arrival_weekday = map(lambda s: datetime.datetime.strptime(s['startTime'][0:19], \"%Y-%m-%dT%H:%M:%S\").weekday(),j)\n",
    "arrival_weekday[0:20]"
   ]
  },
  {
   "cell_type": "code",
   "execution_count": 42,
   "metadata": {
    "collapsed": false,
    "slideshow": {
     "slide_type": "-"
    }
   },
   "outputs": [
    {
     "data": {
      "image/png": "[encoded data removed]",
      "text/plain": [
       "<matplotlib.figure.Figure at 0x107349b10>"
      ]
     },
     "metadata": {},
     "output_type": "display_data"
    }
   ],
   "source": [
    "plt.bar(range(0,500),arrival_weekday[0:500]);"
   ]
  },
  {
   "cell_type": "markdown",
   "metadata": {
    "slideshow": {
     "slide_type": "subslide"
    }
   },
   "source": [
    "Create a new feature matrix by taking a step back, and zipping the time feature vectors with original list of current POIs, i.e. labels."
   ]
  },
  {
   "cell_type": "code",
   "execution_count": 43,
   "metadata": {
    "collapsed": false
   },
   "outputs": [
    {
     "data": {
      "text/plain": [
       "[(1, 9, 1),\n",
       " (1, 10, 1),\n",
       " (1, 11, 1),\n",
       " (1, 11, 1),\n",
       " (1, 12, 1),\n",
       " (1, 12, 1),\n",
       " (1, 15, 1),\n",
       " (1, 15, 1),\n",
       " (-1, 15, 1),\n",
       " (-1, 15, 1)]"
      ]
     },
     "execution_count": 43,
     "metadata": {},
     "output_type": "execute_result"
    }
   ],
   "source": [
    "features = zip(labels, arrival_hour, arrival_weekday)\n",
    "features[0:10]"
   ]
  },
  {
   "cell_type": "markdown",
   "metadata": {
    "slideshow": {
     "slide_type": "subslide"
    }
   },
   "source": [
    "Then repeat the steps above, but using the new feature matrix instead of only currentPOI. We are still trying to predict next POI."
   ]
  },
  {
   "cell_type": "code",
   "execution_count": 44,
   "metadata": {
    "collapsed": false
   },
   "outputs": [],
   "source": [
    "pois = filter(lambda x: x[0] > -1,features)\n",
    "sequence=[pois[0]]\n",
    "for i in range(len(pois)):\n",
    "    if (pois[i][0]!=sequence[-1][0]):\n",
    "        sequence.append(pois[i])"
   ]
  },
  {
   "cell_type": "code",
   "execution_count": 45,
   "metadata": {
    "collapsed": false
   },
   "outputs": [
    {
     "data": {
      "text/plain": [
       "[(array([1, 9, 1]), 1),\n",
       " (array([ 2, 16,  1]), 1),\n",
       " (array([ 0, 18,  1]), 2),\n",
       " (array([2, 7, 2]), 2),\n",
       " (array([1, 8, 2]), 2),\n",
       " (array([ 0, 21,  2]), 3),\n",
       " (array([1, 7, 3]), 3),\n",
       " (array([ 0, 17,  3]), 3),\n",
       " (array([ 2, 18,  3]), 3),\n",
       " (array([ 0, 20,  3]), 5),\n",
       " (array([ 5, 17,  5]), 5),\n",
       " (array([ 0, 17,  5]), 6),\n",
       " (array([2, 9, 6]), 6),\n",
       " (array([ 5, 12,  6]), 6),\n",
       " (array([ 0, 12,  6]), 0),\n",
       " (array([1, 7, 0]), 0),\n",
       " (array([ 2, 16,  0]), 0),\n",
       " (array([ 6, 16,  0]), 0),\n",
       " (array([ 0, 18,  0]), 1),\n",
       " (array([1, 7, 1]), 1)]"
      ]
     },
     "execution_count": 45,
     "metadata": {},
     "output_type": "execute_result"
    }
   ],
   "source": [
    "currentPOI = np.vstack(sequence[0:(len(sequence)-1)])\n",
    "nextPOI = np.array(map(lambda x: x[2], sequence)[1:(len(sequence))])\n",
    "zip(currentPOI, nextPOI)[0:20]"
   ]
  },
  {
   "cell_type": "code",
   "execution_count": 46,
   "metadata": {
    "collapsed": false
   },
   "outputs": [
    {
     "data": {
      "text/plain": [
       "0.93289689034369883"
      ]
     },
     "execution_count": 46,
     "metadata": {},
     "output_type": "execute_result"
    }
   ],
   "source": [
    "clf = RandomForestClassifier(n_estimators=1000)\n",
    "clf.fit(currentPOI, nextPOI)\n",
    "clf.score(currentPOI, nextPOI)"
   ]
  },
  {
   "cell_type": "code",
   "execution_count": 47,
   "metadata": {
    "collapsed": false
   },
   "outputs": [
    {
     "data": {
      "text/plain": [
       "0.91816693944353522"
      ]
     },
     "execution_count": 47,
     "metadata": {},
     "output_type": "execute_result"
    }
   ],
   "source": [
    "clf = svm.SVC()\n",
    "clf.fit(currentPOI, nextPOI)\n",
    "clf.score(currentPOI, nextPOI)"
   ]
  },
  {
   "cell_type": "markdown",
   "metadata": {
    "slideshow": {
     "slide_type": "subslide"
    }
   },
   "source": [
    "The scores on the training sets look really good now, which means that the features we added contributed significantly. However, there is always the risk of over-fitting: Since we only have one trace in the test set, the models may have learned the specifics of this trace, and does not generalize to unseen data.\n",
    "\n",
    "Let try it on unseen data too."
   ]
  },
  {
   "cell_type": "code",
   "execution_count": 48,
   "metadata": {
    "collapsed": false,
    "slideshow": {
     "slide_type": "fragment"
    }
   },
   "outputs": [],
   "source": [
    "X_train = currentPOI[0:split]\n",
    "X_test = currentPOI[split:currentPOI.shape[0]]\n",
    "y_train = nextPOI[0:split]\n",
    "y_test = nextPOI[split:len(nextPOI)]"
   ]
  },
  {
   "cell_type": "code",
   "execution_count": 49,
   "metadata": {
    "collapsed": false,
    "slideshow": {
     "slide_type": "fragment"
    }
   },
   "outputs": [
    {
     "data": {
      "text/plain": [
       "0.86413043478260865"
      ]
     },
     "execution_count": 49,
     "metadata": {},
     "output_type": "execute_result"
    }
   ],
   "source": [
    "clf = RandomForestClassifier(n_estimators=1000)\n",
    "clf.fit(X_train, y_train)\n",
    "clf.score(X_test, y_test)"
   ]
  },
  {
   "cell_type": "code",
   "execution_count": 50,
   "metadata": {
    "collapsed": false,
    "slideshow": {
     "slide_type": "fragment"
    }
   },
   "outputs": [
    {
     "data": {
      "text/plain": [
       "0.80434782608695654"
      ]
     },
     "execution_count": 50,
     "metadata": {},
     "output_type": "execute_result"
    }
   ],
   "source": [
    "clf = svm.SVC()\n",
    "clf.fit(X_train, y_train)\n",
    "clf.score(X_test, y_test)"
   ]
  },
  {
   "cell_type": "markdown",
   "metadata": {
    "slideshow": {
     "slide_type": "fragment"
    }
   },
   "source": [
    "Nice! As we can see, the performance on the unseen test set was not as good as on the training set, but this is expected. However, the scores on the test set are still pretty good."
   ]
  },
  {
   "cell_type": "markdown",
   "metadata": {
    "slideshow": {
     "slide_type": "slide"
    }
   },
   "source": [
    "## Next steps and conclusion"
   ]
  },
  {
   "cell_type": "markdown",
   "metadata": {
    "slideshow": {
     "slide_type": "fragment"
    }
   },
   "source": [
    "Before anything else, the next step would be to perform an error analysis: Look specifically at the cases where the prediction fails. Can we see anything in common in the failed predictions that will help us improve?\n",
    "\n",
    "There are a couple of other features that could improve prediction performance further: Two previous POIs, leave time, staying time, frequency, recency etc. Also, we noticed that arrival time and day of week contributed a lot. However, it is also likely that arrival time and current POI are highly correlated.\n",
    "\n",
    "As you may have noticed in the data, each point is not sampled at a regular frequency. Some points have a long time between start and end time, and the staying time is probably important. This should be taken into account when performing the clustering. I leave it to the reader as an exercise to make this extension.\n",
    "\n",
    "You may also want to change the representation of time. Currently, arrival hour is a ratio level data, but is also cyclical, since 0 comes after 23. If we want to use the information we have in that the time data is ordered, rather than just look at the values as unordered categories, we may want to choose a different representation that can be used by the ML models. One such representation is to split each time feature into two, taking cosine and sine of the time value.\n",
    "\n",
    "Human mobility and predictability of human movements has become a research area in itself. If you are interested, please have a look at this paper:\n",
    "\n",
    "Gonzalez, M. C., Hidalgo, C. A., & Barabasi, A. L. (2008). Understanding individual human mobility patterns. Nature, 453(7196), 779-782. \n",
    "\n",
    "PDF is available here: http://arxiv.org/pdf/0806.1256.pdf"
   ]
  },
  {
   "cell_type": "markdown",
   "metadata": {},
   "source": [
    "Finally, I would really like to have feedback on this piece. Please post comments on the Sony Developer World blog post: http://developer.sonymobile.com/2015/07/28/app-developers-can-now-explore-lifelog-user-predictability-with-data-science-and-machine-learning/"
   ]
  },
  {
   "cell_type": "code",
   "execution_count": null,
   "metadata": {
    "collapsed": true
   },
   "outputs": [],
   "source": []
  }
 ],
 "metadata": {
  "kernelspec": {
   "display_name": "Python 2",
   "language": "python",
   "name": "python2"
  },
  "language_info": {
   "codemirror_mode": {
    "name": "ipython",
    "version": 2
   },
   "file_extension": ".py",
   "mimetype": "text/x-python",
   "name": "python",
   "nbconvert_exporter": "python",
   "pygments_lexer": "ipython2",
   "version": "2.7.10"
  }
 },
 "nbformat": 4,
 "nbformat_minor": 0
}
